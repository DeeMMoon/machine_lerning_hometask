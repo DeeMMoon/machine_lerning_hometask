{
 "cells": [
  {
   "cell_type": "code",
   "execution_count": 1,
   "metadata": {},
   "outputs": [
    {
     "data": {
      "text/plain": [
       "['__cause__',\n",
       " '__class__',\n",
       " '__context__',\n",
       " '__delattr__',\n",
       " '__dict__',\n",
       " '__dir__',\n",
       " '__doc__',\n",
       " '__eq__',\n",
       " '__format__',\n",
       " '__ge__',\n",
       " '__getattribute__',\n",
       " '__gt__',\n",
       " '__hash__',\n",
       " '__init__',\n",
       " '__le__',\n",
       " '__lt__',\n",
       " '__ne__',\n",
       " '__new__',\n",
       " '__reduce__',\n",
       " '__reduce_ex__',\n",
       " '__repr__',\n",
       " '__setattr__',\n",
       " '__setstate__',\n",
       " '__sizeof__',\n",
       " '__str__',\n",
       " '__subclasshook__',\n",
       " '__suppress_context__',\n",
       " '__traceback__',\n",
       " 'args',\n",
       " 'with_traceback']"
      ]
     },
     "execution_count": 1,
     "metadata": {},
     "output_type": "execute_result"
    }
   ],
   "source": [
    "dir(Exception)"
   ]
  },
  {
   "cell_type": "code",
   "execution_count": 5,
   "metadata": {},
   "outputs": [
    {
     "name": "stdout",
     "output_type": "stream",
     "text": [
      "[1, 2, 3, 4, 5, 6]\n"
     ]
    }
   ],
   "source": [
    "items = [1, 2, 3, 4, 5, 6]\n",
    "shuffled_items = [4, 2, 5, 3, 1, 6]\n",
    "print(sorted(shuffled_items))"
   ]
  },
  {
   "cell_type": "code",
   "execution_count": 9,
   "metadata": {},
   "outputs": [
    {
     "name": "stdout",
     "output_type": "stream",
     "text": [
      "[(0, (1, 6)), (1, (2, 5)), (2, (3, 4)), (3, (4, 3)), (4, (5, 2)), (5, (6, 1))]\n"
     ]
    }
   ],
   "source": [
    "a = [1, 2, 3, 4, 5, 6]\n",
    "b = [6, 5, 4, 3, 2, 1]\n",
    "c = list(zip(a,b))\n",
    "print(list(enumerate(c)))\n"
   ]
  },
  {
   "cell_type": "code",
   "execution_count": 14,
   "metadata": {},
   "outputs": [
    {
     "name": "stdout",
     "output_type": "stream",
     "text": [
      "[1, 2, 3, 4, 5, 6, 7, 8, 9, 10, 11, 12, 13, 14, 15, 16, 17, 18, 19, 20, 21, 22, 23, 24, 25, 26, 27, 28, 29, 30, 31, 32, 33, 34, 35, 36, 37, 38, 39, 40, 41, 42, 43, 44, 45, 46, 47, 48, 49, 50, 51, 52, 53, 54, 55, 56, 57, 58, 59, 60, 61, 62, 63, 64, 65, 66, 67, 68, 69, 70, 71, 72, 73, 74, 75, 76, 77, 78, 79, 80, 81, 82, 83, 84, 85, 86, 87, 88, 89, 90, 91, 92, 93, 94, 95, 96, 97, 98, 99, 100]\n"
     ]
    }
   ],
   "source": [
    "print(list(x for x in range (1,101)))"
   ]
  },
  {
   "cell_type": "code",
   "execution_count": 23,
   "metadata": {},
   "outputs": [
    {
     "name": "stdout",
     "output_type": "stream",
     "text": [
      "[1, 2, 0, 3, 1]\n",
      "['bgf...d']\n"
     ]
    }
   ],
   "source": [
    "def pointsCounter(str):\n",
    "    return str.count(\".\")\n",
    "def isMoreThanTwo(str):\n",
    "    return True if str.count(\".\")>2 else False\n",
    "    \n",
    "a = ['agfkd.,f', 'Qksdf;sb&..', 'asdoo*', 'bgf...d', 're54()kj[]].']\n",
    "\n",
    "print(list(map(pointsCounter,a)))\n",
    "print(list(filter(isMoreThanTwo,a)))"
   ]
  },
  {
   "cell_type": "code",
   "execution_count": 10,
   "metadata": {},
   "outputs": [],
   "source": [
    "import glob"
   ]
  },
  {
   "cell_type": "code",
   "execution_count": 41,
   "metadata": {},
   "outputs": [
    {
     "name": "stdout",
     "output_type": "stream",
     "text": [
      "{'': 1474, 'last': 1, 'uv': 1, 'times': 1, 'aboriginal': 1, 'post': 1, 'il': 1, 'x1': 1, 'c75a0p': 2, 'glassed': 1, 'marketing': 5, 'much': 4, 'schur': 3, 'tiny': 1, 'hart': 6, 'tmc': 5, 'shotton': 1, 'considers': 1, 'cacs': 2, '&': 1, 'sdio': 2, 'looking': 1, '6404': 1, 'plates': 1, 'chuckle': 1, 'they': 13, 'plane': 1, '9591': 1, 'questions': 1, 'phase': 1, 'vehicles': 1, 'a': 28, 'though': 1, 'idea': 1, '32439': 1, 'reston': 7, 'ought': 2, 'resources': 1, 'action': 4, 'writes': 5, 'minutes': 1, 'lay': 1, 'veterans': 1, 'build': 2, '156': 1, 'years': 3, 'just': 5, 'regulations': 1, 'collins': 2, 'harvard': 6, 'zeus': 5, 'penis': 1, 'called': 1, 'hard': 1, 'binding': 1, '3+g': 1, '18may199313024752': 1, '69256': 1, '5': 1, 'zaphod': 5, 'half': 1, 'shakala': 1, 'head': 1, 'advertise': 1, 'efficient': 1, 'another': 1, 'wealth': 1, 'protected': 1, 'desires': 1, 'mellon': 1, 'always': 1, 'oh': 1, '3g2': 1, 'threshold': 1, 'be': 22, '$320': 1, 'question': 3, 'gees': 1, 'credibility': 1, 'netcom': 3, 'polluting': 1, 'brutal': 1, 'upset': 1, 'trustworthy': 1, 'lines': 9, 'covered': 1, 'regarding': 1, 'dripping': 1, 'billboards': 2, 'all': 2, 's': 7, 'history': 1, '42674': 1, 'btw': 1, 'problem': 4, 'mention': 1, 'us': 2, 'limited': 1, 'space': 37, '2872': 1, 'cover': 1, 'qhnp4b1w165w': 1, 'claim': 3, 'uiuc': 4, 'health': 1, 'exist': 1, 'explicitly': 1, 'abominable': 1, 'staffer': 1, 'distribution': 3, '62708': 1, 'nation': 3, 'rights': 1, 'commercial': 3, '59': 1, '6338': 1, 'gatech': 2, 'anybody': 1, 'wouldn': 2, 'c76bms': 1, 'astro': 10, 'alw': 1, 'up': 4, 'i': 20, 'follows': 1, 'bright': 3, 'serving': 1, 'path': 9, 'true': 1, 'mad': 2, 'astronomical': 1, 'no': 1, 'ftp': 1, 'hamlet': 1, 'postman': 1, 'news': 19, 'modern': 1, 'ucdavis': 3, 'papers': 1, 'hear': 1, 'unsymmetrical': 1, '42838': 1, 'vax': 1, 'already': 2, 'passage': 1, 'advertiser': 1, 'flow': 1, '30893': 1, 'sherzer': 1, 'scattered': 1, 'image': 1, 'pl3': 1, 'usl': 2, 'sci': 37, 'newsreader': 1, 'tue': 1, 'system': 2, '16': 2, '11': 1, 'programs': 1, 'diego': 1, 'estimate': 1, 'have': 11, 'net': 14, 'noc': 6, 'light': 6, 'univ': 2, 'according': 2, 'lysator': 1, 'bet': 1, 'watching': 2, '01': 1, '26': 1, 'arrivals': 1, 'satellites': 1, 'raistlin': 1, '6339': 1, 'se': 1, 'dispute': 1, 'legally': 1, 'now': 3, 'environmentalists': 1, 'somebody': 1, 'warroom': 1, 'after': 1, 'infrared': 1, 'think': 6, 'this': 17, 'underlying': 1, 'that': 23, 'hmm': 1, 'usage': 1, 'len': 4, 'amateur': 1, 'ux1': 2, '30892': 1, 'pretty': 1, 'stunning': 1, 'andrew': 1, 'extra': 1, 'mirrors': 1, 'the': 94, '63427': 1, 'venari': 1, 'perhaps': 1, 'herrin': 1, 'ns': 2, 'clear': 1, 'ii': 1, 'visual': 1, 'jhart': 3, 'feet': 1, 'jim': 3, 'weeks': 1, '\\t\\tmbk': 1, 'cantaloupe': 14, 'actually': 2, 'cshotton': 2, 'parties': 2, 'cia': 2, 'roger': 2, 'inst': 1, 'complained': 1, 'rural': 8, 'at': 10, 'try': 2, 'uunet': 2, 'other': 3, 'mind': 2, 'experiments': 1, '1993may14': 2, 'force': 4, 'problems': 3, 'story': 1, 'billsats': 2, 'documentation': 2, '45k': 1, 'reply': 1, 'engr': 1, 'don': 4, 'huge': 1, 'article': 5, 'eye': 1, 'invoking': 1, 'million': 1, 'on': 17, 'give': 3, '19': 1, 'their': 5, 'telescope': 2, 'patriot': 3, 't': 13, 'uhog': 1, '02': 1, 'strong': 1, '2933': 1, 'concerned': 1, '12373': 1, '708': 1, 'gov': 2, 'howland': 7, 'sdd': 1, 'proposal': 2, 'chris': 1, 'specious': 1, 'suspect': 1, 'opinion': 2, 'demonstrate': 3, 'references': 7, 'our': 1, 'acs': 1, 'steps': 1, 'carron': 1, '182': 1, 'opacity': 1, 'reams': 1, 'altitude': 1, 'electrical': 1, 'using': 2, 'observations': 2, 'k12': 4, 'movie': 1, 'words': 1, 'af': 1, 'help': 1, '133444': 1, 'mac': 2, '12': 1, 'based': 3, 'part': 1, 'newsgroups': 9, 'long': 2, 'bosnia': 1, 'place': 2, 'beaver': 1, 'sell': 1, 'keck': 1, 'husky': 1, 'digest': 1, 'happened': 1, 'who': 5, '47': 1, 'institute': 2, 'usenet': 5, 'technology': 1, '36227': 1, 'peachnet': 1, '`coercion': 1, 'math': 4, 'tommy': 1, 'host': 6, 'happens': 1, 'techology': 1, 'atmosphere': 1, 'roof': 1, 'pgf': 2, 'profitable': 1, 'know': 1, 'photography': 1, 'property': 1, 'owns': 1, 'owners': 1, '2178': 1, 'keywords': 1, 'observation': 1, 'srl03': 2, 'dept': 2, 'subject': 9, 'evanston': 1, '36054': 1, '69257': 1, 'procurement': 1, 'ok': 1, 'also': 5, '1t8h49$a2n': 1, 'timbuk3': 1, 'scarce': 1, 'discourage': 1, 'isu': 1, 'lip': 1, 'enough': 1, 'through': 1, 'rcollins': 3, 'edu': 85, 'utexas': 2, 'hp': 6, 'redistribution': 1, 'ucsu': 2, 'letters': 1, 'british': 1, 'example': 1, 'took': 1, 'lovers': 1, 'ins': 1, 'cl': 1, 'before': 1, 'encore': 8, 'an': 8, 'emotionalism': 1, 'c74rgl': 2, 'impact': 2, 'uchinews': 1, '32315': 1, 'darwin': 1, 'agora': 7, 'market': 1, 'teacher': 4, 'buy': 1, 'radio': 1, 'to': 57, 'where': 2, 'defend': 1, 'abomination': 1, '40': 2, 'sky': 7, 'businesses': 1, 'crabapple': 1, 'first': 4, 'costing': 1, 'services': 1, 'added': 1, 'doubtfull': 1, 'computer': 2, 'people': 2, 'n': 1, 'currently': 1, 'process': 1, 'could': 3, 'rochester': 3, 'newswatcher': 1, 'how': 3, 'hardware': 2, 'geoffm': 1, 'equivalent': 1, 'set': 1, 'back': 1, 'even': 5, 'feed': 1, 'difference': 1, 'non': 1, 'terrorist': 1, 'book': 1, 'right': 3, 'matt': 2, 'chance': 1, 'date': 9, 'them': 3, 'personnel': 1, 'principle': 1, 'taxing': 1, 'research': 1, 'board': 1, 'k75': 4, 'jet': 1, 'cdt': 1, 'me': 1, 'seen': 1, 'governmental': 1, 'include': 1, 'glass': 2, 'strange': 1, '30752': 1, 'deep': 1, 'kind': 2, 'luck': 1, 'nutty': 1, 'bb3': 1, 'if': 12, 'appeared': 2, 'ignorance': 1, 'doug': 2, 'depends': 1, 'agenda': 1, 'movies': 1, 'utilizes': 1, '1993': 9, 'bans': 1, 'there': 5, 'does': 1, 'talked': 1, 'excess': 1, 'edge': 2, 'installation': 1, 'processing': 1, 'will': 5, 'oac4': 1, 'requirements': 1, 'like': 2, 'pay': 1, 'about': 7, 'ray': 2, 'politics': 9, 'communists': 1, 'crary': 2, '1993may18': 1, 'consensus': 2, 'fulfillment': 1, 'those': 1, 'capable': 1, 'majority': 1, '62480': 1, 'here': 1, 'your': 3, 'csl': 1, 'hubble': 1, 'c73u77': 1, 'keyboards': 1, 'politicians': 1, 'quick': 1, 'redistribute': 1, 'cornell': 1, '30750': 1, 'whatever': 1, '36052': 1, 'cab': 2, 'orbitting': 1, '32316': 1, 'noncoercive': 1, '2934': 1, 'done': 2, 'c760dv': 4, 'work': 4, '17may199318160445': 1, 'pacifists': 1, 'cwru': 1, '43': 1, 'begets': 1, 'unimportant': 1, 'international': 3, 'is': 20, 'sideways': 1, 'failed': 1, 'gave': 1, 'doubt': 1, 'magnus': 1, 'ohio': 7, 'va': 1, 'common': 5, 'das': 6, 'coming': 2, 'spending': 1, 'cook': 1, 'folks': 1, '1t6dd1$11v': 1, 'without': 1, 'from': 15, '36226': 1, 'acns': 4, 'hawaii': 1, 'surface': 1, 'with': 5, 'w': 1, 'vms': 1, 'cost': 7, 'inls1': 1, 'what': 8, 'c73rp4': 1, 'night': 7, 'around': 4, '23': 1, 'academic': 2, 'guessed': 1, 'environment': 20, 'deccrl': 1, 'university': 4, '63426': 1, '12250': 1, 'of': 52, 'known': 1, 'cmu': 25, 'dan': 1, 'american': 1, 'labor': 1, 'leonard': 1, 'different': 1, 'follow': 1, 'going': 2, 'tailor': 1, 'pacified': 1, 'significant': 1, '42335': 1, 'clearing': 1, 'aws': 1, 'design': 1, 'liu': 1, 'dseg': 1, 'country': 1, 'billboard': 3, 'ibm': 1, 'lands': 1, '17': 6, 'innovation': 1, '3044': 2, 'older': 1, 'deleted': 1, 'money': 5, 'moon': 2, 'std': 1, 'rulers': 1, 'oac': 1, '12249': 1, 'owned': 2, 'use': 5, 'cs': 20, '336': 1, 'visually': 1, 'four': 2, 'filters': 1, 'sacrilegious': 1, 'these': 2, 'enunciated': 1, 'flying': 1, 'tents': 1, '69410': 1, 'forwarded': 1, 'starving': 3, 'misc': 38, 'wild': 1, 'attacked': 1, 'mon': 4, 'condenstion': 1, 'satellite': 2, 'gets': 1, 'do': 3, '491': 1, 'udel': 2, 'service': 2, 'whole': 1, 'allen': 1, 'actions': 1, 'colorado': 2, 'yes': 1, 'unlike': 1, 'ruin': 1, '24': 1, 'least': 1, 'isn': 1, 'pioneers': 1, 'inhabitants': 1, 'solve': 3, 'as': 10, 'very': 2, 'lie': 1, 'message': 9, 'sender': 6, 'menudo': 1, 'suggested': 1, 'etc': 4, 'precisely': 1, 'countries': 1, 'ir': 1, 'audience': 1, 'amount': 1, 'invisible': 1, 'law': 8, '170593093754': 1, 'quite': 1, 'saying': 1, 'near': 6, 'sez': 2, 'amds': 1, '90': 1, 'ideas': 1, 'reduced': 1, 'mr': 3, 'he': 3, 'while': 2, 'ece': 5, 'resolve': 1, 'astronomer': 1, 'world': 5, 'distortions': 1, 'talking': 2, 'orbiting': 2, 'wrote': 2, 'someone': 1, 'msu': 3, 'explain': 1, '8dk': 2, 'ps': 1, 'ti': 1, 'for': 21, 'didn': 1, 'via': 3, 'had': 1, 'ucsd': 8, 'see': 2, '15908': 1, 'case': 3, 'satelliets': 1, 'junk': 1, 'noble': 1, '57': 1, 'rec': 10, 'uth': 5, 'condemn': 1, 'taken': 4, 'decwrl': 2, 'putting': 1, 'attractive': 1, 'agree': 2, 'driven': 1, 'benefit': 1, 'type': 1, '29': 2, 'spend': 2, 'public': 1, 'tin': 1, '14': 1, 'jumbo': 1, 'out': 5, 'srv': 15, 'english': 2, 'id': 10, 'juts': 1, 'specific': 1, 'over': 6, 'why': 2, 'miller': 1, 'kc': 2, 'let': 2, 'mit': 2, 'news_gateway': 1, 'anecdote': 1, 'growing': 1, 'cu': 1, 'lyapunov': 4, 'advertising': 3, 'scenic': 1, '53': 1, 'two': 2, 'tamu': 6, 'course': 4, 'requirement': 1, 'evens': 2, 'resort': 1, '32440': 1, 'so': 8, 'kennel': 2, 'sure': 4, 'children': 2, 'my': 3, 'news+': 1, 'brighter': 1, 'dc': 4, 'lack': 1, 'usaf': 1, 'make': 6, 'nonlinear': 3, 'anyway': 3, 'talk': 19, 'companies': 1, 'capabilities': 1, 'passing': 1, 'boycott': 1, 'm': 3, 'than': 1, 'fcrary': 1, '517': 1, 'eyes': 1, 'weren': 1, 'power': 2, 'pr': 1, 'state': 7, '8x5': 1, 'expenses': 1, '2167': 1, '27': 1, 'chat': 4, 'deemed': 1, 'since': 2, 'define': 1, 'purposes': 1, '18': 4, 'time': 1, 'creativity': 1, 'vacation': 1, 'anyone': 2, '62481': 1, 'willing': 1, 'territory': 1, 'approximate': 1, 'then': 1, '42673': 1, 'won': 1, 'corporation': 2, 'sense': 1, '6340': 1, 'hsc': 5, '21': 1, 'sei': 1, 'canadian': 1, 'i0c0256': 2, 'amdahl': 1, 'computing': 2, 'anonymous': 1, '200217': 2, 'hardly': 2, 'lichtenstein': 2, 'ez012344': 1, 'stop': 1, 'instead': 2, 'postmaster': 1, '2248': 1, 'nobody': 1, 'games': 3, 'earth': 1, '37': 1, 'engineering': 1, 'best': 2, 'narrow': 1, 'd': 2, 'ah2': 1, 'working': 1, 'e': 1, 'visible': 1, 'nature': 3, 'control': 1, 'suppposed': 1, 'communicated': 1, 'own': 3, 'denounce': 1, 'self': 1, 'should': 1, 'we': 4, 'or': 6, 'reviews': 1, 'his': 3, 'cray': 1, 'netters': 1, 'its': 3, 'satelite': 1, 'latech': 1, '1tdqmvinn3q2': 1, 'ground': 3, 'methods': 1, 'drives': 2, '42267': 1, 'friends': 1, '69258': 1, 'disk': 2, 'c78ecz': 1, 'org': 3, 'network': 2, 'f1k': 2, 'fabrication': 1, 'equipment': 1, 'xref': 5, 'pictures': 1, 'tracks': 1, 'particularly': 1, 'well': 1, '`owned': 1, '13': 6, 'europa': 1, 'consumers': 10, 'vnews': 1, 'stuff': 1, 'planetary': 1, 'ownership': 3, 'but': 7, 'any': 2, 'c76ash': 1, 'because': 2, 'existing': 1, 'mcwilliams': 1, '22': 1, 'comments': 1, 'looked': 1, 'com': 28, 'within': 1, 'astronomers': 7, 'posting': 6, 'genitals': 1, '41': 1, '5537': 1, '84x': 1, 'been': 3, 'good': 4, 'nor': 1, 'sordid': 1, 'uw': 1, 'crop': 1, 'most': 3, 'ad': 1, 'are': 10, 'western': 3, 'gtefsd': 1, 'not': 11, 'relayed': 1, 'oac2': 3, 'field': 3, 'followup': 2, 'geoffmc7508l': 2, 'doesn': 2, 'recognized': 1, 'tell': 1, 'nih': 3, 'astronomy': 3, 'person': 1, 'ans': 7, '42268': 1, '34': 2, 'land': 3, 'itself': 1, 'believe': 1, 'when': 6, 'it': 33, 'congresscritters': 1, 'too': 3, 'helix': 1, 'government': 3, '1': 5, 'reformat': 1, 'nip': 1, 'hpctdkz': 1, 'pass': 1, '12km': 1, 'username': 1, 'vividly': 1, 'everything': 2, 'texas': 2, 'shrilly': 1, 'license': 1, 'circles': 1, 'object': 1, 've': 1, 'worse': 1, 'strength': 4, 'photos': 1, '60208': 1, 'gun': 1, 'tamsun': 1, 'accounted': 1, 'get': 2, 'and': 33, 'affect': 1, 'cis': 1, 'days': 1, '1993may16': 1, 'user': 3, 're': 10, 'against': 2, '36051': 1, 'fs7': 5, 'mathematics': 1, '42675': 1, 'which': 1, 'seemed': 1, 'col': 5, 'wonderfull': 4, 'were': 4, 'aurora': 1, 'probably': 1, 'complain': 1, 'small': 2, 'thousands': 3, 'lose': 2, 'materials': 2, 'organization': 10, 'friendly': 1, 'san': 1, 'actual': 1, 'africa': 1, 'go': 1, '44': 1, 'ccc': 1, 'spindle': 1, 'laid': 1, 'north': 1, 'l': 2, '2873': 1, 'sat': 1, 'under': 1, 'polluters': 2, 'x': 7, '61': 1, 'extremely': 1, 'may': 11, 'enterprises': 3, 'sas': 3, 'software': 1, '|': 13, 'readnews': 1, '143120': 1, 'camp': 3, 'yeah': 1, 'redistributionist': 1, 'trespassers': 2, 'photographing': 1, 'jeffrey': 1, 'take': 1, 'potential': 1, 'point': 2, 'naked': 1, 'archive': 1, 'air': 2, 'science': 2, 'required': 1, 'need': 2, '42269': 1, '5922': 1, 'p022y43jm01': 1, 'individuals': 1, 'boulder': 1, 'side': 2, 'equalizer': 1, '355': 1, 'super': 1, 'uh': 1, 'sura': 1, 'something': 3, 'frank': 2, '30751': 1, 'bboard': 1, 'original': 1, 'forgot': 1, 'nntp': 6, 'sats': 3, 'such': 2, 'more': 3, 'writing': 2, 'vlad': 2, '4u7': 2, 'noticed': 1, 'fraction': 1, 'water': 1, 'legal': 4, 'hello': 1, 'one': 4, 'wk': 1, 'headlines': 8, 'please': 1, 'missiles': 1, '62709': 1, 'wanted': 2, 'lazlo': 1, 'paving': 2, 'was': 7, 'mobilize': 1, 'approved': 1, 'eg': 4, 'still': 1, 'nibble': 1, 'war': 1, '62478': 1, 'nat': 1, 'bribed': 1, 'telescopes': 2, 'solution': 1, 'dynamics': 1, 'minimum': 1, 'seem': 1, 'would': 29, 'anti': 1, '18084tm': 3, 'proposed': 2, '12248': 1, 'guy': 1, '1993may17': 1, 'remember': 1, '12372': 1, 'can': 4, 'typically': 1, 'enforced': 1, 'enjoyment': 1, 'meetings': 1, 'buying': 1, '69409': 1, '135': 2, 'sick': 1, 'bud': 1, '90b': 1, 'has': 3, 'mbk': 2, 'cynical': 1, 'invest': 8, 'free': 2, 'thought': 2, 'structures': 1, 'caused': 1, 'specifying': 1, '04': 1, 'you': 11, 'eng': 1, 'timbuk': 1, 'upsets': 1, 'might': 6, 'hm': 1, 'certainly': 1, 'voluntary': 1, 'far': 3, 'concert': 1, '113849': 1, 'dying': 1, '52': 1, 'rain': 7, 'drive': 1, 'bloomu': 1, 'in': 26, 'pinpoint': 1, 'check': 1, 'superfluous': 1, 'chuck': 1, 'iti': 3, 'cso': 4, 'used': 1, '6': 1, '180593125810': 1, 'got': 1, '32317': 1, 'spite': 1, 'enterpoop': 1, 'exposing': 1, 'nwu': 6, 'new': 3, 'want': 1, 'must': 1, 'capitalism': 3, 'igor': 2, 'team': 2, 'being': 1, 'full': 1, 'beyond': 1, 'loss': 5, 'northwestern': 2, 'travel': 1, '20': 1, 'tom': 2, 'interfere': 1, 'sagan': 1, 'gmt': 8, 'costs': 1, 'sysgem1': 1, 'carnegie': 1, 'america': 1, '$70m': 1, 'needs': 2, 'a&m': 2, 'backcountry': 10, 'mps': 5, 'mksol': 1, 'hasn': 1, 'coercive': 2, 'stand': 2, 'by': 10, 'geoff': 1, 'langley': 1, 'california': 1, '737604987': 2, 'england': 2, 'interesting': 2, 'some': 8, 'every': 5, 'sdcrsi': 1, 'due': 1, 'consequence': 1, 'told': 1, 'nearly': 1}\n"
     ]
    }
   ],
   "source": [
    "path = glob.glob('./mlschl/Seminars/20_newsgroups/sci.space/*', recursive=True)\n",
    "Words = dict()\n",
    "splitters=[',', '.', ':', ';', '\\'', '\\\\', '/', '?', '!', '@', '>', '<', '(', ')', '[', ']', '{', '}', '\\n', '-', '*', '\\\"']\n",
    "for pathes in path:\n",
    "    file = open(pathes, mode='r')\n",
    "    for line in file:\n",
    "        stri=line.lower()\n",
    "        for char in stri:\n",
    "            if (char in splitters):\n",
    "                stri=stri.replace(char,' ')\n",
    "        \n",
    "        for j in stri.split(' '):\n",
    "            try:\n",
    "                Words[j]=Words[j]+1\n",
    "            except KeyError:\n",
    "                Words[j]=1\n",
    "print(Words)\n",
    "        \n",
    "   \n",
    "    \n",
    "    \n",
    "    "
   ]
  },
  {
   "cell_type": "code",
   "execution_count": null,
   "metadata": {},
   "outputs": [],
   "source": []
  },
  {
   "cell_type": "code",
   "execution_count": null,
   "metadata": {},
   "outputs": [],
   "source": []
  }
 ],
 "metadata": {
  "kernelspec": {
   "display_name": "Python 3",
   "language": "python",
   "name": "python3"
  },
  "language_info": {
   "codemirror_mode": {
    "name": "ipython",
    "version": 3
   },
   "file_extension": ".py",
   "mimetype": "text/x-python",
   "name": "python",
   "nbconvert_exporter": "python",
   "pygments_lexer": "ipython3",
   "version": "3.5.2"
  }
 },
 "nbformat": 4,
 "nbformat_minor": 2
}
