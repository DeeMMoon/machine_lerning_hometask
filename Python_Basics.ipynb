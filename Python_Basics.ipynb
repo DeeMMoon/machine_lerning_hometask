{
 "cells": [
  {
   "cell_type": "code",
   "execution_count": 1,
   "metadata": {},
   "outputs": [
    {
     "data": {
      "text/plain": [
       "['__cause__',\n",
       " '__class__',\n",
       " '__context__',\n",
       " '__delattr__',\n",
       " '__dict__',\n",
       " '__dir__',\n",
       " '__doc__',\n",
       " '__eq__',\n",
       " '__format__',\n",
       " '__ge__',\n",
       " '__getattribute__',\n",
       " '__gt__',\n",
       " '__hash__',\n",
       " '__init__',\n",
       " '__le__',\n",
       " '__lt__',\n",
       " '__ne__',\n",
       " '__new__',\n",
       " '__reduce__',\n",
       " '__reduce_ex__',\n",
       " '__repr__',\n",
       " '__setattr__',\n",
       " '__setstate__',\n",
       " '__sizeof__',\n",
       " '__str__',\n",
       " '__subclasshook__',\n",
       " '__suppress_context__',\n",
       " '__traceback__',\n",
       " 'args',\n",
       " 'with_traceback']"
      ]
     },
     "execution_count": 1,
     "metadata": {},
     "output_type": "execute_result"
    }
   ],
   "source": [
    "dir(Exception)"
   ]
  },
  {
   "cell_type": "code",
   "execution_count": 5,
   "metadata": {},
   "outputs": [
    {
     "name": "stdout",
     "output_type": "stream",
     "text": [
      "[1, 2, 3, 4, 5, 6]\n"
     ]
    }
   ],
   "source": [
    "items = [1, 2, 3, 4, 5, 6]\n",
    "shuffled_items = [4, 2, 5, 3, 1, 6]\n",
    "print(sorted(shuffled_items))"
   ]
  },
  {
   "cell_type": "code",
   "execution_count": 9,
   "metadata": {},
   "outputs": [
    {
     "name": "stdout",
     "output_type": "stream",
     "text": [
      "[(0, (1, 6)), (1, (2, 5)), (2, (3, 4)), (3, (4, 3)), (4, (5, 2)), (5, (6, 1))]\n"
     ]
    }
   ],
   "source": [
    "a = [1, 2, 3, 4, 5, 6]\n",
    "b = [6, 5, 4, 3, 2, 1]\n",
    "c = list(zip(a,b))\n",
    "print(list(enumerate(c)))\n"
   ]
  },
  {
   "cell_type": "code",
   "execution_count": 14,
   "metadata": {},
   "outputs": [
    {
     "name": "stdout",
     "output_type": "stream",
     "text": [
      "[1, 2, 3, 4, 5, 6, 7, 8, 9, 10, 11, 12, 13, 14, 15, 16, 17, 18, 19, 20, 21, 22, 23, 24, 25, 26, 27, 28, 29, 30, 31, 32, 33, 34, 35, 36, 37, 38, 39, 40, 41, 42, 43, 44, 45, 46, 47, 48, 49, 50, 51, 52, 53, 54, 55, 56, 57, 58, 59, 60, 61, 62, 63, 64, 65, 66, 67, 68, 69, 70, 71, 72, 73, 74, 75, 76, 77, 78, 79, 80, 81, 82, 83, 84, 85, 86, 87, 88, 89, 90, 91, 92, 93, 94, 95, 96, 97, 98, 99, 100]\n"
     ]
    }
   ],
   "source": [
    "print(list(x for x in range (1,101)))"
   ]
  },
  {
   "cell_type": "code",
   "execution_count": 23,
   "metadata": {},
   "outputs": [
    {
     "name": "stdout",
     "output_type": "stream",
     "text": [
      "[1, 2, 0, 3, 1]\n",
      "['bgf...d']\n"
     ]
    }
   ],
   "source": [
    "def pointsCounter(str):\n",
    "    return str.count(\".\")\n",
    "def isMoreThanTwo(str):\n",
    "    return True if str.count(\".\")>2 else False\n",
    "    \n",
    "a = ['agfkd.,f', 'Qksdf;sb&..', 'asdoo*', 'bgf...d', 're54()kj[]].']\n",
    "\n",
    "print(list(map(pointsCounter,a)))\n",
    "print(list(filter(isMoreThanTwo,a)))"
   ]
  },
  {
   "cell_type": "code",
   "execution_count": 2,
   "metadata": {},
   "outputs": [],
   "source": [
    "import glob"
   ]
  },
  {
   "cell_type": "code",
   "execution_count": 5,
   "metadata": {},
   "outputs": [
    {
     "name": "stdout",
     "output_type": "stream",
     "text": [
      "[{'': 110, 'willing': 1, 'references': 1, 'newsgroups': 1, 'wrote': 1, '22': 1, '2167': 1, 'oac': 1, 'gave': 1, 'million': 1, 's': 2, 'af': 1, 'i': 2, 'with': 1, 'id': 1, 'government': 1, '$70m': 1, 'mps': 1, 'followup': 1, 'cmu': 1, 'estimate': 1, 'up': 1, 'in': 2, 'to': 6, 'x': 3, 'path': 1, 'cover': 1, 'near': 1, 'me': 1, 'news': 1, '$320': 1, 'requirements': 1, 'reviews': 1, 'distribution': 1, 'staffer': 1, 'around': 1, 'different': 1, 'accounted': 1, 'creativity': 1, 'reams': 1, 'hardware': 1, 'x1': 1, '5': 1, 'watching': 1, 'a': 4, 'innovation': 1, 'academic': 1, 'years': 1, 'build': 2, 'space': 2, 'org': 3, 'much': 2, 'travel': 1, 'usaf': 1, 'from': 2, 'lines': 1, 'net': 2, 'process': 1, '18': 2, 'of': 5, 'opinion': 1, 'doubt': 1, 'cshotton': 2, 'oac2': 3, 'lack': 1, 'procurement': 1, 'could': 1, 'howland': 1, 'meetings': 1, 'tmc': 5, 'posting': 1, 'btw': 1, 'about': 1, 'shotton': 1, 'how': 1, 'noc': 1, 'flying': 1, 'be': 3, 'date': 1, 'story': 1, 'personnel': 1, 'the': 9, 'computing': 1, 'cantaloupe': 1, 'das': 1, 'iti': 3, '180593125810': 1, 'nntp': 1, 'harvard': 1, 'oac4': 1, 'anecdote': 1, 'may': 1, '3044': 2, 'fabrication': 1, 'costs': 1, 'gmt': 1, 'team': 1, 'this': 1, 'state': 1, 'looked': 1, 'costing': 1, 'just': 2, 'that': 2, 'over': 1, '1993may14': 2, 'by': 1, 'uh': 1, 'an': 3, 're': 1, 'try': 1, 'cs': 1, '52': 1, 'allen': 1, 'course': 1, 'zaphod': 1, 'as': 1, 'or': 2, 'interesting': 2, 'called': 1, 'air': 2, 'would': 3, '6': 1, 'times': 1, 'cost': 6, 'design': 1, 'w': 1, 'd': 1, 'uth': 5, '01': 1, 'it': 4, 'difference': 1, 'menudo': 1, 'subject': 1, 'very': 1, '200217': 2, 'organization': 1, 'huge': 1, 'told': 1, 'srv': 1, 'actual': 1, 'cynical': 1, 'ohio': 1, 'expenses': 1, 'bet': 1, 'my': 1, 'sci': 2, 'is': 1, 'article': 1, 'requirement': 1, 'message': 1, 'reston': 1, 'world': 1, 'now': 1, 'specifying': 1, 'superfluous': 1, 'aws': 1, 'chuck': 1, 'at': 1, '1993': 1, 'host': 1, 'on': 2, 'half': 1, 'and': 7, 'majority': 1, 'edu': 9, 'documentation': 2, 'force': 2, 'for': 2, 'sdio': 2, 'ans': 1, 'dc': 4, 'sherzer': 1, 'user': 1, 'four': 1, 'materials': 1, 'based': 1, 'hsc': 5, 'labor': 1}, {'': 106, 'wanted': 1, 'billboard': 2, 'nntp': 1, 'id': 1, 'newsgroups': 1, 'tailor': 1, 'comments': 1, 'at': 1, 'guessed': 1, '62708': 1, 'posting': 1, 'didn': 1, 'too': 1, '27': 1, 'jumbo': 1, 'may': 1, 'net': 2, '69409': 1, 'consumers': 2, '32439': 1, 't': 1, 'p022y43jm01': 1, '36226': 1, 'here': 1, 'visual': 1, 'col': 5, 'state': 1, 'you': 2, 'with': 1, 'gmt': 1, 'references': 1, 'are': 1, 'boycott': 1, 'about': 1, 'that': 2, 'naked': 1, 'advertise': 1, '12372': 1, 'he': 3, 'mps': 1, 'proposed': 1, 'an': 1, 're': 1, 'telescope': 1, 'his': 1, 'in': 1, '30892': 1, 'to': 5, 'small': 2, 'cs': 2, 'for': 1, 'can': 1, 'impact': 1, '2933': 1, 'path': 1, 'hp': 6, 'i': 1, 'person': 1, 'news': 1, '14': 1, 'altitude': 1, 'would': 3, '1tdqmvinn3q2': 1, 'rec': 2, 'good': 1, 'companies': 1, 'advertiser': 1, '59': 1, 'astro': 2, 'feet': 1, 'if': 1, 'chris': 1, 'suggested': 1, 'a': 2, 'it': 2, 'misc': 2, 'cmu': 2, 'zaphod': 1, 'be': 1, 'subject': 1, '12km': 1, 'cab': 2, 'nobody': 1, 'space': 5, 'think': 1, 'organization': 1, 'srv': 2, '17': 1, 'marketing': 1, 'approximate': 1, 'hear': 1, 'and': 1, 'best': 1, 'com': 6, 'do': 1, 'unimportant': 1, 'sci': 6, 'talk': 4, 'hpctdkz': 1, 'juts': 1, 'your': 1, 'words': 1, '45k': 1, 'of': 1, 'message': 1, 'reston': 1, 'jet': 1, 'from': 1, 'lines': 1, 'other': 1, 'amdahl': 1, 'environment': 4, 'service': 1, 'narrow': 1, 'near': 1, 'howland': 1, 'harvard': 1, '1993': 1, 'audience': 1, 'talked': 1, 'what': 2, 'resolve': 1, 'sure': 1, 'politics': 2, 'xref': 1, 'lie': 1, 'eye': 1, 'edu': 4, 'sdd': 1, 'backcountry': 2, 'noc': 1, 'anyway': 1, 'cantaloupe': 2, '19': 1, 'see': 1, 'ans': 1, '24': 1, 'date': 1, 'will': 1, 'ohio': 1, 'so': 1, 'visually': 1, 'pretty': 1, 'the': 4, 'according': 2, 'ccc': 1, 'who': 1, 'host': 1, 'das': 1}, {'': 258, '42335': 1, 'while': 1, 'cray': 1, 'archive': 1, 'id': 1, 'newsgroups': 1, 'newsreader': 1, 'writes': 1, 'fcrary': 1, 'time': 1, 'billboard': 1, 'sky': 2, 'talk': 4, 'raistlin': 1, 'scattered': 1, 'doesn': 1, 'pictures': 1, 'first': 1, '53': 1, 'atmosphere': 1, 'circles': 1, 'credibility': 1, 'driven': 1, 'at': 1, 'references': 1, 'are': 2, 'cso': 1, 'infrared': 1, 'as': 5, 'username': 1, 'ucsd': 8, 'if': 1, 'cmu': 2, 'his': 1, '1': 2, 'considers': 1, 'university': 1, '\\t\\tmbk': 1, 'to': 3, 'astronomy': 2, 'x': 1, 'its': 1, 'programs': 1, 'minutes': 1, 'thousands': 1, 'mbk': 2, 'observation': 1, 'california': 1, 'path': 1, 'near': 1, 'm': 1, 'news': 1, 'brighter': 1, 'through': 1, 'cantaloupe': 2, 'upsets': 1, 'good': 2, 'over': 1, 'opacity': 1, 'tiny': 1, 'rural': 2, 'ucsu': 2, 'looking': 1, 'point': 1, 'uiuc': 1, 'diego': 1, 'uchinews': 1, 'they': 2, 'frank': 2, 'misc': 8, 'doubtfull': 1, 't': 2, 'two': 1, 'would': 4, 'light': 3, 'sacrilegious': 1, 'taken': 1, 'inls1': 1, 'lyapunov': 4, 'cost': 1, 'were': 1, '&': 1, 'sagan': 1, 'weeks': 1, 'headlines': 2, 'case': 2, 'every': 2, 'ok': 1, 'net': 2, '34': 1, 'satellites': 1, 'not': 2, 'boulder': 1, 'ftp': 1, 'anonymous': 1, 'of': 9, '143120': 1, 'telescopes': 1, '2248': 1, 'from': 1, 'most': 1, 'satelliets': 1, 'ruin': 1, 'when': 1, 'howland': 1, 'have': 2, 'seem': 1, 'posting': 1, 'tin': 1, 'politics': 2, 'xref': 1, 'has': 1, 'noc': 1, 'believe': 1, 'harvard': 1, 'backcountry': 2, 'will': 1, 'so': 2, 'the': 12, '21': 1, 'wonderfull': 1, 'host': 1, 'das': 1, 'timbuk': 1, 'dynamics': 1, 'matt': 2, 'nntp': 1, 'hubble': 1, 'papers': 1, '30893': 1, '62709': 1, 'observations': 1, 'ad': 1, 'astronomer': 1, 'these': 1, 'may': 1, 'field': 3, 'then': 1, 'pl3': 1, 'this': 3, 'still': 1, 'a': 5, 'happens': 1, 'gmt': 1, 'just': 1, 'radio': 1, 'existing': 1, 'colorado': 2, 'that': 3, 'might': 1, 'kennel': 2, 'orbiting': 2, 'by': 1, 'proposed': 1, 're': 2, 'caused': 1, 'ground': 1, 'full': 1, 'hardly': 1, '36227': 1, 'edu': 13, 'cs': 2, 'equalizer': 1, 'course': 1, '16': 1, 'or': 1, 'consumers': 2, 'san': 1, 'i': 2, 'bright': 3, 'k12': 1, '90': 1, 'all': 1, 'institute': 2, '1993may16': 1, '69410': 1, '32440': 1, 'rec': 2, 'space': 7, 'cu': 1, 'keck': 1, 'deep': 1, '2934': 1, 'astro': 2, 'out': 1, 'modern': 1, 'far': 3, 'upset': 1, 'billboards': 1, 'distortions': 1, 'hawaii': 1, 'but': 2, 'problem': 1, 'ans': 1, 'it': 2, 'telescope': 1, 'eyes': 1, 'be': 4, 'passing': 1, 'subject': 1, 'science': 2, 'date': 1, '42838': 1, 'organization': 1, 'teacher': 1, 'srv': 2, 'junk': 1, 'marketing': 1, 'done': 1, 'and': 2, 'concerned': 1, '12373': 1, 'chat': 1, 'in': 2, 'sci': 6, 'is': 3, '1t6dd1$11v': 1, 'because': 2, 'moon': 2, 'fraction': 1, 'message': 1, 'reston': 1, '57': 1, 'dying': 1, 'lines': 1, 'known': 1, 'environment': 4, 'visible': 1, 'extremely': 1, 'sdcrsi': 1, '1993': 1, 'nearly': 1, 'what': 3, 'wouldn': 1, 'nonlinear': 3, 'network': 2, 'an': 1, 'itself': 1, 'ux1': 1, 'four': 1, 'already': 2, 'more': 1, 'like': 1, 'for': 4, '6404': 1, 'com': 1, 'sure': 1, 'invest': 2, 'use': 1, 'crary': 2, 'any': 1, 'based': 2}, {'': 90, 'etc': 1, 'satellite': 2, 'hello': 1, 'id': 1, 'via': 1, 'newsgroups': 1, '40': 1, 'while': 1, 'sats': 3, 'relayed': 1, 'camp': 3, 'nature': 1, 'may': 1, '156': 1, 'new': 1, 'action': 4, 'sas': 3, 'specific': 1, 'have': 1, 'team': 1, 'this': 3, 'night': 1, 'near': 1, 'l': 1, 'state': 1, 'sender': 1, 'was': 5, 'alw': 1, 'gmt': 1, 'cia': 2, 'are': 2, 'that': 2, 'ir': 1, 'might': 1, 'e': 1, 'ps': 1, 'regarding': 1, 'mps': 1, 'by': 2, 'followup': 1, 'british': 1, 'cmu': 1, 'techology': 1, 'photos': 1, 'know': 1, 'capabilities': 1, 'vlad': 2, 'patriot': 3, 'structures': 1, 'to': 5, 'n': 1, 'cs': 2, 'x': 2, 'its': 1, 'gov': 2, 'thought': 1, 'one': 1, 'path': 1, 'i': 5, 'm': 1, 'photography': 1, 'postmaster': 1, 'news': 1, 'back': 1, 'nat': 1, 'wrote': 1, 'board': 1, 'capable': 1, 'mon': 1, 'csl': 1, 'taken': 2, 'amds': 1, 'terrorist': 1, 'for': 1, 'out': 1, 'does': 1, 'question': 3, 'sat': 1, 'book': 1, 'see': 1, '182': 1, 'plates': 1, 'watching': 1, 'a': 3, 'appeared': 2, 'it': 1, 'seen': 1, 'health': 1, 'within': 1, 'zaphod': 1, 'type': 1, 'postman': 1, 'subject': 1, 'pinpoint': 1, 'utexas': 1, '12': 1, 'place': 1, 'space': 2, 'va': 1, 'organization': 1, 'newswatcher': 1, 'uunet': 1, 'photographing': 1, 'srv': 1, '17': 1, 'such': 1, '43': 1, 'from': 1, 'movie': 1, 'best': 1, 'games': 3, 'in': 7, 'my': 2, 'utilizes': 1, 'sci': 2, 'net': 2, 'technology': 1, 'is': 3, 'at': 1, 'england': 2, 'nih': 3, 'of': 5, 'orbitting': 1, 'message': 1, 'post': 1, 'reston': 1, '13': 1, 'mad': 2, 'lines': 1, 'langley': 1, 'stunning': 1, 'warroom': 1, 'could': 1, 'howland': 1, 'harvard': 1, 's': 1, '1993': 1, 'ray': 2, 'netters': 1, 'what': 1, 'movies': 1, 'tents': 1, 'and': 5, 'an': 1, 'edu': 4, 'inst': 1, 'vehicles': 1, 'noc': 1, 'helix': 1, 'license': 1, 'africa': 1, 'ans': 1, 'be': 3, 'date': 1, 'user': 1, 'ohio': 1, '20': 1, 'exist': 1, 'the': 20, 'clear': 1, '37': 1, 'who': 1, 'cantaloupe': 1, 'uv': 1, 'das': 1, '170593093754': 1}, {'': 280, 'interfere': 1, 'msu': 3, 'billsats': 2, 'decwrl': 2, 'id': 1, 'newsgroups': 1, '40': 1, 'underlying': 1, 'mac': 1, 'mit': 2, 'friends': 1, 'andrew': 1, 'forwarded': 1, 'nor': 1, 'deccrl': 1, 's': 2, 'bb3': 1, 'people': 1, 'with': 3, 'are': 1, 'use': 1, 'cook': 1, 'cwru': 1, 'particularly': 1, 'cmu': 7, 'peachnet': 1, 'in': 2, 'venari': 1, 'to': 3, 'denounce': 1, 'x': 1, 'bboard': 1, 'thought': 1, 'one': 1, 'impact': 1, 'strength': 4, 'path': 1, 'observations': 1, 'm': 1, 'follow': 1, 'rochester': 1, 'news': 2, 'part': 1, 'distribution': 1, 'mind': 2, 'magnus': 1, 'parties': 2, 'not': 2, 'timbuk3': 1, '11': 1, 'vacation': 1, 'his': 1, 'pacified': 1, '29': 1, 'university': 1, 'a': 3, 'they': 1, '336': 1, 'spite': 1, 't': 4, 'ibm': 1, 'would': 7, 'must': 1, 'space': 3, 'think': 1, 'shrilly': 1, 'demonstrate': 3, 'significant': 1, 'buying': 1, 'you': 2, 'reduced': 1, 'since': 1, '9591': 1, 'been': 1, 'penis': 1, 'lazlo': 1, 'news_gateway': 1, 'saying': 1, 'news+': 1, 'no': 1, 'desires': 1, '18': 1, 'of': 9, 'strange': 1, 'concert': 1, 'international': 1, 'guy': 1, 'from': 3, 'there': 1, 'isu': 1, 'doesn': 1, 'approved': 1, 'genitals': 1, 'have': 1, 'also': 1, 'mcwilliams': 1, 'pacifists': 1, 'when': 1, 'make': 1, 'has': 1, 'had': 1, 'quick': 1, 'anyway': 1, 'their': 1, 'be': 2, 'date': 1, 'vividly': 1, 'so': 2, 'paving': 2, '517': 1, 'the': 12, 'invisible': 1, 'planetary': 1, 'cantaloupe': 1, 'idea': 1, 'western': 3, 'original': 1, 'sender': 2, 'pay': 1, 'quite': 1, 'someone': 1, 'may': 1, 'gets': 1, 'don': 2, 'potential': 1, 'gmt': 1, 'surface': 1, 'this': 3, 'night': 2, 'via': 1, 'l': 1, 'state': 2, 'fulfillment': 1, '18084tm': 3, 'what': 1, 'chuckle': 1, 'tom': 2, 'that': 3, 'over': 3, 'by': 1, 'usenet': 1, 'equivalent': 1, 'ground': 2, 'anyone': 2, 'jeffrey': 1, 'cs': 5, '16': 1, 'enjoyment': 1, 'agenda': 1, 'i': 7, 'ins': 1, 'cl': 1, 'communists': 1, 'astronomical': 1, 'wk': 1, 'beaver': 1, 'condemn': 1, 'glassed': 1, 'depends': 1, 'feed': 1, 'out': 1, 'tommy': 1, 'crabapple': 1, 'sky': 1, 'something': 1, 'benefit': 1, 'hm': 1, 'communicated': 1, 'but': 3, 'it': 7, 'suspect': 1, 'attractive': 1, 'acs': 1, 'subject': 1, 'coming': 1, 'lichtenstein': 2, 'country': 1, 'ah2': 1, 'organization': 1, '1': 2, 'srv': 2, 'nibble': 1, 'and': 6, 'needs': 1, 'some': 2, 'sci': 2, 'about': 1, 'unlike': 1, 'capitalism': 3, 'is': 1, 'glass': 2, 'added': 1, 'kind': 1, 'sez': 2, 'message': 1, 'tue': 1, 'c78ecz': 1, 'digest': 1, 'lines': 1, 'cornell': 1, 'at': 3, '1993': 1, '2178': 1, 'on': 3, 'wouldn': 1, '355': 1, 'enterpoop': 1, 'edu': 16, 'sei': 1, 'cis': 1, 'uw': 1, 'for': 1, 'actually': 2, 'exposing': 1, 'object': 1, 'uhog': 1, 'ohio': 2, 'got': 1, 'gatech': 1, 'land': 1, 'materials': 1, 'any': 1, 'who': 1}, {}, {'': 137, 'self': 1, 'id': 2, 'newsgroups': 1, '|': 13, 'netcom': 3, 'writes': 2, 'yes': 1, 'specious': 1, 'talk': 3, '04': 1, '23': 1, 's': 1, 'sender': 1, 'herrin': 1, 'are': 1, 'roger': 2, 'cso': 1, 'government': 2, '6340': 1, 'if': 1, 'cmu': 2, 'in': 4, 'amount': 1, 'geoff': 1, 'to': 3, 'redistribute': 1, 'businesses': 1, 'path': 1, 'wealth': 1, 'hamlet': 1, 'rochester': 1, 'news': 2, 'c73u77': 1, 'beyond': 1, 'mon': 1, 'perhaps': 1, 'ns': 2, 'efficient': 1, 'rural': 2, 'whole': 1, 'money': 3, '29': 1, 'whatever': 1, 'corporation': 1, 'std': 1, 't': 1, 'redistributionist': 1, 'would': 5, 'udel': 1, 'place': 1, 'where': 1, 'emotionalism': 1, '36054': 1, 'much': 1, 'you': 1, 'computer': 1, 'se': 1, 'headlines': 2, 'spend': 2, '69258': 1, 'net': 1, 'spending': 1, 'not': 3, '32317': 1, '90b': 1, 'of': 2, 'nip': 1, '13': 1, '42269': 1, 'from': 2, 'other': 1, 'give': 1, 'service': 1, 'precisely': 1, 'when': 1, 'howland': 1, 'ez012344': 1, 'also': 1, 'posting': 1, 'them': 1, 'politics': 1, 'xref': 1, 'were': 1, 'cantaloupe': 2, 'anyway': 1, 'pr': 1, 'backcountry': 2, 'c74rgl': 2, 'so': 1, 'required': 1, 'minimum': 1, 'the': 5, '62481': 1, 'wonderfull': 1, 'host': 1, 'be': 2, 'nntp': 1, 'least': 1, 'trustworthy': 1, 'why': 1, 'let': 1, 'ignorance': 1, 'f1k': 2, 'may': 1, 'help': 1, 'don': 1, '84x': 1, 'advertising': 2, 'this': 2, 'enterprises': 3, 'bud': 1, 'abominable': 1, 'gmt': 1, 'just': 1, '3g2': 1, 'that': 1, 'liu': 1, 'c76ash': 1, 're': 1, 'misc': 8, 'c73rp4': 1, 'somebody': 1, 'cs': 2, 'or': 1, 'consumers': 2, 'than': 1, 'problems': 1, 'edu': 6, 'miller': 1, 'rcollins': 3, 'ucdavis': 3, 'uiuc': 1, 'dan': 1, 'rec': 2, 'those': 1, 'deemed': 1, 'astro': 2, 'encore': 8, 'geoffm': 1, 'excess': 1, 'serving': 1, 'it': 3, 'space': 5, 'usenet': 1, '42675': 1, 'starving': 3, 'subject': 1, 'date': 1, 'noble': 1, 'organization': 1, 'teacher': 1, 'srv': 2, 'marketing': 1, 'typically': 1, 'uunet': 1, 'and': 4, 'com': 11, 'chat': 1, 'some': 1, 'sci': 6, 'threshold': 1, '12250': 1, 'readnews': 1, 'commercial': 3, 'is': 5, 'lysator': 1, '17': 1, 'which': 1, 'message': 1, '30752': 1, 'reston': 1, 'world': 3, 'lines': 1, 'environment': 4, '4u7': 2, 'at': 1, '1993': 1, 'references': 1, 'take': 1, 'on': 2, 'sysgem1': 1, 'lip': 1, 'article': 2, 'abomination': 1, 'an': 1, 'ux1': 1, 'collins': 2, 'k12': 1, 'more': 1, 'purposes': 1, 'for': 2, 'reply': 1, 'ans': 1, 'user': 1, 'redistribution': 1, 'profitable': 1, 'gatech': 1, 'children': 2, 'invest': 2, 'geoffmc7508l': 2}, {'': 120, 'mac': 1, 'tamsun': 1, '17may199318160445': 1, 'id': 1, 'newsgroups': 1, '3+g': 1, 'edge': 2, 'research': 1, 'have': 2, 'side': 2, 'even': 2, 'keywords': 1, 'people': 1, 'want': 1, 'engr': 1, 'are': 1, 'keyboards': 1, 'talking': 1, 'experiments': 1, 'zeus': 5, 'mps': 1, 'if': 2, 'cmu': 1, 'up': 1, '1': 1, 'university': 2, 'spindle': 1, 'to': 9, 'path': 1, 'near': 1, '113849': 1, 'going': 1, 'stand': 2, 'news': 2, 'qhnp4b1w165w': 1, 'used': 1, 'distribution': 1, 'worse': 1, 'around': 2, 'suppposed': 1, 'not': 1, 'hardware': 1, '1t8h49$a2n': 1, '02': 1, 'mention': 1, 'reston': 1, 'a': 1, 't': 1, 'two': 1, 'kc': 2, 'would': 2, 'covered': 1, 'utexas': 1, 'good': 1, 'was': 1, 'affect': 1, 'think': 2, 'much': 1, 'though': 1, 'you': 6, 'since': 1, 'installation': 1, 'i0c0256': 2, '26': 1, 'net': 2, 'drive': 1, 'being': 1, 'your': 2, 'water': 1, '18': 1, 'of': 2, '13': 1, 'from': 3, 'there': 2, 'howland': 1, 'also': 1, 'veterans': 1, 'posting': 1, 'about': 1, 'sick': 1, 'drives': 2, 'noc': 1, 'protected': 1, 'be': 2, 'date': 1, 'so': 1, 'the': 14, 'computing': 1, 'aurora': 1, 'cantaloupe': 1, 'das': 1, 'nntp': 1, 'harvard': 1, 'reformat': 1, 'flow': 1, 'may': 3, 'new': 1, 'tell': 1, '18may199313024752': 1, 'gees': 1, 'due': 1, 'this': 1, 'state': 1, 'condenstion': 1, 'software': 1, 'questions': 1, 'make': 4, 'that': 4, 'might': 2, 'shakala': 1, 're': 2, 'sideways': 1, 'latech': 1, 'a&m': 2, 'igor': 2, 'cs': 2, 'ii': 1, 'or': 1, 'i': 3, 'problems': 1, '1993may18': 1, 'vax': 1, '41': 1, 'tamu': 6, 'out': 1, 'tracks': 1, 'older': 1, 'something': 1, 'd': 1, '135': 2, 'writing': 1, 'problem': 1, 'ans': 1, 'it': 3, 'space': 1, 'zaphod': 1, 'disk': 2, 'too': 1, 'subject': 1, 'coming': 1, 'organization': 1, 'seemed': 1, 'dripping': 1, 'roof': 1, 'srv': 1, 'vms': 1, 'luck': 1, 'references': 1, 'won': 1, '15908': 1, 'com': 2, 'ti': 1, 'some': 2, 'sci': 1, 'forgot': 1, 'were': 1, 'academic': 1, 'is': 3, 'head': 1, 'yeah': 1, 'phase': 1, 'happened': 1, 'message': 1, 'carron': 1, 'services': 1, 'world': 1, 'lines': 1, 'us': 1, 'hard': 1, 'at': 1, '1993': 1, 'host': 1, 'unsymmetrical': 1, 'on': 6, 'mksol': 1, 'texas': 2, 'edu': 11, 'dseg': 1, 'plane': 1, 'vnews': 1, 'force': 2, 'for': 3, 'oh': 1, 'cdt': 1, 'ohio': 1, 'sure': 2, 'work': 1, 'hmm': 1, 'well': 1}, {'': 271, 'principle': 1, 'astronomers': 6, 'id': 1, 've': 1, 'newsgroups': 1, 'writes': 1, 'legal': 2, 'or': 1, 'evens': 2, 'talk': 4, 'every': 3, 'defend': 1, '8dk': 1, 'have': 4, 'explain': 1, 'references': 1, 'are': 2, 'voluntary': 1, 'use': 3, 'il': 1, 'len': 4, 'please': 1, 'if': 6, 'cmu': 2, 'everything': 2, 'to': 22, 'invoking': 1, 'wild': 1, 'inhabitants': 1, '63426': 1, 'rochester': 1, 'system': 1, '708': 1, 'around': 1, 'countries': 1, 'rural': 2, 'ownership': 2, 'pgf': 1, 'gun': 1, 'uiuc': 1, '61': 1, 'a': 10, 'they': 7, 'bribed': 1, 'remember': 1, 'misc': 10, 'eg': 3, 'go': 1, '36051': 1, 'srl03': 1, 'c760dv': 2, 'now': 1, 'how': 2, 'without': 1, '6338': 1, 'processing': 1, 'net': 1, 'there': 2, 'sordid': 1, 'history': 1, 'complained': 1, 'telescopes': 1, 'point': 1, 'begets': 1, 'other': 1, 'image': 1, 'when': 3, '12248': 1, 'polluters': 1, 'mirrors': 1, 'sura': 1, 'posting': 1, 'politics': 2, 'xref': 1, 'has': 1, 'backcountry': 2, 'another': 1, 'do': 2, 'opinion': 1, 'discourage': 1, 'date': 1, 'will': 2, 'such': 1, 'so': 1, 'us': 1, 'the': 16, 'stop': 1, 'putting': 1, 'cantaloupe': 2, 'weren': 1, 'attacked': 1, 'owners': 1, 'also': 2, 'solve': 3, 'environment': 4, 'ideas': 1, 'rights': 1, 'anybody': 1, 'new': 1, 'usl': 1, 'we': 3, 'night': 3, 'set': 1, 'state': 1, 'one': 1, 'earth': 1, '2872': 1, 'what': 1, 'just': 1, 'dispute': 1, 'about': 2, 'that': 5, 'might': 2, 'property': 1, 'noticed': 1, 'by': 4, 're': 1, 'solution': 1, 'try': 1, 'darwin': 1, 'hardly': 1, 'currently': 1, '`coercion': 1, '32315': 1, 'zaphod': 1, '5922': 1, 'taxing': 1, 'anti': 1, 'north': 1, 'non': 1, 'coercive': 2, 'own': 2, 'working': 1, 'missiles': 1, 'nature': 1, 'failed': 1, 'billboards': 1, 'writing': 1, 'problem': 2, 'it': 10, 'claim': 3, 'buy': 1, 'actions': 1, 'subject': 1, 'schur': 3, 'case': 1, 'organization': 2, 'polluting': 1, '`owned': 1, 'srv': 2, 'marketing': 1, 'done': 1, 'pioneers': 1, 'needs': 1, 'chat': 1, 'some': 3, 'using': 1, 'steps': 1, 'headlines': 2, 'stuff': 1, 'filters': 1, 'lovers': 1, 'agora': 4, 'via': 1, 'friendly': 1, 'k75': 2, 'last': 1, 'politicians': 1, 'america': 1, 'always': 1, 'laid': 1, 'on': 4, 'mr': 3, '30750': 1, 'define': 1, 'more': 1, 'like': 1, 'host': 1, 'letters': 1, 'chance': 1, 'ohio': 1, 'noncoercive': 1, 'include': 1, 'individuals': 1, 'work': 3, 'free': 2, 'who': 2, 'our': 1, 'against': 1, 'can': 3, 'law': 5, 'too': 1, 'arrivals': 1, 'nwu': 6, 'pass': 1, 'path': 1, 'long': 2, 'mathematics': 1, 's': 1, 'even': 3, 'first': 3, 'passage': 1, 'sender': 1, 'strong': 1, 'ought': 2, 'true': 1, 'cacs': 1, 'com': 4, 'cso': 1, 'as': 3, 'common': 3, 'mps': 1, 'english': 1, 'up': 2, 'in': 7, 'folks': 1, 'leonard': 1, 'mobilize': 1, '62478': 1, 'thousands': 1, 'aboriginal': 1, '491': 1, 'why': 1, 'regulations': 1, 'northwestern': 2, 'took': 1, '1993may17': 1, 'news': 5, 'control': 1, 'consensus': 2, 'going': 1, 'brutal': 1, 'mon': 1, 'not': 3, '42267': 1, '60208': 1, 'nation': 2, 'nutty': 1, 'usage': 1, 'corporation': 1, 't': 2, 'war': 1, 'would': 4, 'udel': 1, 'owned': 2, 'was': 1, 'where': 1, 'think': 2, 'were': 1, '17': 1, 'extra': 1, 'growing': 1, 'resources': 1, 'been': 1, 'lines': 1, 'governmental': 1, 'days': 1, '34': 1, 'jhart': 2, 'crop': 1, 'of': 16, 'jim': 2, '13': 1, 'consequence': 1, 'most': 2, 'lands': 1, 'enough': 1, 'give': 2, 'math': 4, 'congresscritters': 1, 'light': 2, 'c75a0p': 1, 'deleted': 1, 'them': 2, 'make': 1, 'clearing': 1, '737604987': 1, 'their': 3, 'be': 4, 'proposal': 2, 'right': 2, 'rain': 4, '1993': 1, 'wonderfull': 1, 'hart': 5, 'environmentalists': 1, 'nntp': 1, 'money': 2, 'at': 1, 'let': 1, 'wanted': 1, 'these': 1, 'may': 1, 'should': 1, 'public': 1, 'gmt': 1, 'advertising': 1, 'this': 4, 'scarce': 1, 'hasn': 1, 'univ': 2, 'over': 1, 'acns': 4, 'sky': 3, '69256': 1, 'explicitly': 1, 'edu': 11, 'cs': 2, 'before': 1, 'satelite': 1, '5537': 1, 'evanston': 1, 'consumers': 2, 'problems': 1, 'amateur': 1, 'get': 2, 'article': 1, 'years': 1, 'owns': 1, 'rec': 2, 'space': 7, 'probably': 1, 'enforced': 1, 'astro': 2, 'out': 1, 'enunciated': 1, 'example': 1, 'lose': 1, 'but': 2, 'super': 1, '42673': 1, 'usenet': 2, 'bosnia': 1, '133444': 1, 'could': 1, 'teacher': 1, 'sense': 1, '44': 1, 'and': 7, 'follows': 1, 'astronomy': 1, 'sci': 6, 'from': 1, 'sell': 1, 'is': 3, 'kind': 1, 'equipment': 1, 'message': 1, 'agree': 2, 'instead': 2, 'international': 1, 'dept': 2, 'trespassers': 1, 'need': 2, 'check': 1, 'etc': 2, 'market': 1, 'rulers': 1, 'bans': 1, 'an': 1, 'certainly': 1, 'k12': 1, 'resort': 1, 'for': 6, 'taken': 1, 'power': 2, 'course': 2, 'invest': 2, 'land': 2, 'lay': 1, 'methods': 1}, {'': 102, 'against': 1, '42674': 1, 'uiuc': 1, 'id': 1, 'newsgroups': 1, 'etc': 1, '62480': 1, 'loss': 5, 'legal': 2, 'english': 1, 'may': 1, 'c76bms': 1, 'net': 2, 'consumers': 2, 'canadian': 1, '8dk': 1, '6339': 1, 'have': 1, '69257': 1, 'usl': 1, 'we': 1, 'night': 1, '12249': 1, 'astronomers': 1, 'sender': 1, 'international': 1, 'gtefsd': 1, 'gmt': 1, 'references': 1, 'now': 1, 'cacs': 1, 'about': 1, 'that': 1, 'cso': 1, 'carnegie': 1, 'as': 1, 'scenic': 1, 'ownership': 1, 'engineering': 1, 'nature': 1, 'sky': 1, 'if': 1, 're': 2, 'talking': 1, '47': 1, 'territory': 1, 'complain': 1, 'in': 1, 'bloomu': 1, 'using': 1, 'under': 1, 'cs': 2, 'its': 1, 'writes': 1, '36052': 1, 'law': 3, '63427': 1, 'path': 1, 'near': 1, 'common': 2, 'very': 1, 'limited': 1, 'system': 1, 'news': 4, 'all': 1, 'would': 1, 'agora': 3, 'rec': 2, 'c75a0p': 1, 't': 2, 'mon': 1, 'rural': 2, '2873': 1, 'astro': 2, 'nation': 1, 'by': 1, 'pgf': 1, 'something': 1, 'legally': 1, 'doug': 2, '30751': 1, 'own': 1, 'of': 3, 'jim': 1, 'they': 3, 'their': 1, 'it': 1, 'misc': 10, 'usenet': 1, 'husky': 1, 'subject': 1, 'light': 1, 'srl03': 1, 'c760dv': 2, 'space': 5, 'organization': 1, 'teacher': 1, 'binding': 1, 'srv': 2, '17': 2, 'computer': 1, 'marketing': 1, '32316': 1, 'don': 1, 'and': 1, 'eng': 1, 'com': 4, 'chat': 1, 'sci': 6, 'talk': 4, 'date': 1, 'isn': 1, 'jhart': 1, 'is': 1, 'headlines': 2, 'one': 1, 'fs7': 5, 'article': 1, 'europa': 1, 'message': 1, 'reston': 1, 'cmu': 7, 'recognized': 1, 'k75': 2, 'the': 2, 'from': 1, 'lines': 1, 'environment': 4, 'trespassers': 1, 'to': 1, 'eg': 1, 'howland': 1, 'harvard': 1, 'polluters': 1, '1993': 1, 'electrical': 1, 'years': 1, 'politics': 2, 'xref': 1, 'american': 1, 'edu': 11, 'after': 1, '42268': 1, 'k12': 1, 'noc': 1, 'for': 1, '737604987': 1, 'lose': 1, 'ans': 1, 'be': 1, 'backcountry': 2, 'will': 1, '8x5': 1, 'been': 1, 'ece': 5, 'invest': 2, '13': 2, 'right': 1, 'rain': 3, 'wonderfull': 1, 'hart': 1, 'cantaloupe': 2, 'mellon': 1, 'das': 1, 'thousands': 1}]\n"
     ]
    }
   ],
   "source": [
    "path = glob.glob('./mlschl/Seminars/20_newsgroups/sci.space/*', recursive=True)\n",
    "Words =[]\n",
    "splitters=[',', '.', ':', ';', '\\'', '\\\\', '/', '?', '!', '@', '>', '<', '(', ')', '[', ']', '{', '}', '\\n', '-', '*', '\\\"']\n",
    "for pathes in range(0,len(path)):\n",
    "    Words.append(dict())\n",
    "    file = open(path[pathes], mode='r')\n",
    "    for line in file:\n",
    "        stri=line.lower()\n",
    "        for char in stri:\n",
    "            if (char in splitters):\n",
    "                stri=stri.replace(char,' ')\n",
    "        \n",
    "        for j in stri.split(' '):\n",
    "            try:\n",
    "                Words[pathes][j]=Words[pathes][j]+1\n",
    "            except KeyError:\n",
    "                Words[pathes][j]=1\n",
    "print(Words)\n",
    "        \n",
    "   "
   ]
  },
  {
   "cell_type": "code",
   "execution_count": null,
   "metadata": {},
   "outputs": [],
   "source": []
  }
 ],
 "metadata": {
  "kernelspec": {
   "display_name": "Python 3",
   "language": "python",
   "name": "python3"
  },
  "language_info": {
   "codemirror_mode": {
    "name": "ipython",
    "version": 3
   },
   "file_extension": ".py",
   "mimetype": "text/x-python",
   "name": "python",
   "nbconvert_exporter": "python",
   "pygments_lexer": "ipython3",
   "version": "3.5.2"
  }
 },
 "nbformat": 4,
 "nbformat_minor": 2
}
